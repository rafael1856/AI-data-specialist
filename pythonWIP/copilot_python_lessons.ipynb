{
 "cells": [
  {
   "cell_type": "markdown",
   "metadata": {},
   "source": [
    "# Copilot Python Lessons Notebook 1"
   ]
  },
  {
   "cell_type": "markdown",
   "metadata": {},
   "source": [
    "I want to develop a 10-lessons python tutorial on the most important topics to learn in python, with detailed code examples that can execute in a jupyter notebook for each lesson. First create a detailed step-by-step outline, write 2 or 3 lessons at the time."
   ]
  },
  {
   "cell_type": "markdown",
   "metadata": {},
   "source": [
    "\n",
    "1. **Introduction to Python**\n",
    "   - What is Python?\n",
    "   - Installing Python and setting up the environment\n",
    "   - Running your first Python program\n",
    "\n",
    "2. **Python Basics**\n",
    "   - Variables and data types\n",
    "   - Operators\n",
    "   - Input and output operations\n",
    "\n",
    "3. **Control Flow**\n",
    "   - Conditional statements (if, else, elif)\n",
    "   - Looping (for, while)\n",
    "   - Break and continue statements\n",
    "\n",
    "4. **Functions**\n",
    "   - Defining and calling functions\n",
    "   - Function arguments and return values\n",
    "   - Anonymous functions (lambda)\n",
    "\n",
    "5. **Data Structures**\n",
    "   - Lists\n",
    "   - Tuples\n",
    "   - Dictionaries\n",
    "   - Sets\n",
    "\n",
    "6. **File I/O**\n",
    "   - Reading and writing files\n",
    "   - File modes\n",
    "   - Handling file exceptions\n",
    "\n",
    "7. **Exception Handling**\n",
    "   - Try, except, finally blocks\n",
    "   - Raising exceptions\n",
    "   - Custom exceptions\n",
    "\n",
    "8. **Object-Oriented Programming**\n",
    "   - Classes and objects\n",
    "   - Inheritance\n",
    "   - Polymorphism\n",
    "   - Encapsulation\n",
    "\n",
    "9. **Modules and Packages**\n",
    "   - Importing modules\n",
    "   - Creating your own modules\n",
    "   - Understanding packages\n",
    "\n",
    "10. **Python Standard Library**\n",
    "    - Overview of the Python Standard Library\n",
    "    - Working with some important modules like os, sys, math, datetime, etc.\n",
    "\n",
    "Now, let's create the first two lessons:\n",
    "\n",
    "**Lesson 1: Introduction to Python**\n",
    "\n"
   ]
  },
  {
   "cell_type": "code",
   "execution_count": 1,
   "metadata": {},
   "outputs": [
    {
     "name": "stdout",
     "output_type": "stream",
     "text": [
      "Hello, World!\n"
     ]
    }
   ],
   "source": [
    "# This is a comment in Python\n",
    "print(\"Hello, World!\")  # This will print Hello, World! to the console"
   ]
  },
  {
   "cell_type": "markdown",
   "metadata": {},
   "source": [
    "\n",
    "\n",
    "**Lesson 2: Python Basics**\n",
    "\n"
   ]
  },
  {
   "cell_type": "code",
   "execution_count": 2,
   "metadata": {},
   "outputs": [
    {
     "name": "stdout",
     "output_type": "stream",
     "text": [
      "15\n",
      "5\n",
      "50\n",
      "2.0\n",
      "Hello, \n"
     ]
    }
   ],
   "source": [
    "# Variables and data types\n",
    "integer_var = 10  # This is an integer variable\n",
    "float_var = 10.5  # This is a float variable\n",
    "string_var = \"Hello, World!\"  # This is a string variable\n",
    "boolean_var = True  # This is a boolean variable\n",
    "\n",
    "# Operators\n",
    "print(10 + 5)  # Addition\n",
    "print(10 - 5)  # Subtraction\n",
    "print(10 * 5)  # Multiplication\n",
    "print(10 / 5)  # Division\n",
    "\n",
    "# Input and output operations\n",
    "name = input(\"Enter your name: \")  # Takes user input\n",
    "print(\"Hello, \" + name)  # Prints a greeting with the user's name"
   ]
  },
  {
   "cell_type": "markdown",
   "metadata": {},
   "source": [
    "\n",
    "**Lesson 3: Control Flow**\n",
    "\n"
   ]
  },
  {
   "cell_type": "code",
   "execution_count": 3,
   "metadata": {},
   "outputs": [
    {
     "name": "stdout",
     "output_type": "stream",
     "text": [
      "x is positive\n",
      "0\n",
      "1\n",
      "2\n",
      "3\n",
      "4\n",
      "0\n",
      "1\n",
      "2\n",
      "3\n",
      "4\n",
      "0\n",
      "1\n",
      "2\n",
      "3\n",
      "4\n",
      "0\n",
      "1\n",
      "2\n",
      "3\n",
      "4\n",
      "6\n",
      "7\n",
      "8\n",
      "9\n"
     ]
    }
   ],
   "source": [
    "# Conditional statements\n",
    "x = 10\n",
    "if x > 0:\n",
    "    print(\"x is positive\")\n",
    "elif x < 0:\n",
    "    print(\"x is negative\")\n",
    "else:\n",
    "    print(\"x is zero\")\n",
    "\n",
    "# Looping\n",
    "for i in range(5):  # range(5) generates numbers from 0 to 4\n",
    "    print(i)\n",
    "\n",
    "count = 0\n",
    "while count < 5:\n",
    "    print(count)\n",
    "    count += 1  # equivalent to count = count + 1\n",
    "\n",
    "# Break and continue statements\n",
    "for i in range(10):\n",
    "    if i == 5:\n",
    "        break  # stops the loop\n",
    "    print(i)\n",
    "\n",
    "for i in range(10):\n",
    "    if i == 5:\n",
    "        continue  # skips the current iteration and continues with the next\n",
    "    print(i)"
   ]
  },
  {
   "cell_type": "markdown",
   "metadata": {},
   "source": [
    "\n",
    "\n",
    "**Lesson 4: Functions**\n",
    "\n"
   ]
  },
  {
   "cell_type": "code",
   "execution_count": 4,
   "metadata": {},
   "outputs": [
    {
     "name": "stdout",
     "output_type": "stream",
     "text": [
      "Hello, World\n",
      "15\n",
      "25\n"
     ]
    }
   ],
   "source": [
    "# Defining and calling functions\n",
    "def greet(name):\n",
    "    return \"Hello, \" + name\n",
    "\n",
    "print(greet(\"World\"))  # prints: Hello, World\n",
    "\n",
    "# Function arguments and return values\n",
    "def add_numbers(x, y):\n",
    "    return x + y\n",
    "\n",
    "result = add_numbers(10, 5)\n",
    "print(result)  # prints: 15\n",
    "\n",
    "# Anonymous functions (lambda)\n",
    "square = lambda x: x * x\n",
    "print(square(5))  # prints: 25"
   ]
  },
  {
   "cell_type": "markdown",
   "metadata": {},
   "source": [
    "\n",
    "**Lesson 5: Data Structures**\n",
    "\n"
   ]
  },
  {
   "cell_type": "code",
   "execution_count": 5,
   "metadata": {},
   "outputs": [
    {
     "name": "stdout",
     "output_type": "stream",
     "text": [
      "1\n",
      "[1, 2, 3, 4, 5, 6]\n",
      "1\n",
      "John\n",
      "{'name': 'John', 'age': 31}\n",
      "{1, 2, 3, 4, 5}\n"
     ]
    }
   ],
   "source": [
    "# Lists\n",
    "my_list = [1, 2, 3, 4, 5]\n",
    "print(my_list[0])  # prints: 1\n",
    "my_list.append(6)  # adds 6 to the end of the list\n",
    "print(my_list)  # prints: [1, 2, 3, 4, 5, 6]\n",
    "\n",
    "# Tuples\n",
    "my_tuple = (1, 2, 3, 4, 5)\n",
    "print(my_tuple[0])  # prints: 1\n",
    "\n",
    "# Dictionaries\n",
    "my_dict = {'name': 'John', 'age': 30}\n",
    "print(my_dict['name'])  # prints: John\n",
    "my_dict['age'] = 31  # changes the value of 'age' to 31\n",
    "print(my_dict)  # prints: {'name': 'John', 'age': 31}\n",
    "\n",
    "# Sets\n",
    "my_set = {1, 2, 3, 4, 5, 5}\n",
    "print(my_set)  # prints: {1, 2, 3, 4, 5} (duplicates are not allowed in sets)"
   ]
  },
  {
   "cell_type": "markdown",
   "metadata": {},
   "source": [
    "\n",
    "\n",
    "**Lesson 6: File I/O**\n",
    "\n"
   ]
  },
  {
   "cell_type": "code",
   "execution_count": 6,
   "metadata": {},
   "outputs": [
    {
     "name": "stdout",
     "output_type": "stream",
     "text": [
      "Hello, World!\n",
      "Hello, World!\n",
      "Goodbye, World!\n",
      "File not found.\n"
     ]
    }
   ],
   "source": [
    "# Writing to a file\n",
    "with open('file.txt', 'w') as f:\n",
    "    f.write('Hello, World!')\n",
    "\n",
    "# Reading from a file\n",
    "with open('file.txt', 'r') as f:\n",
    "    content = f.read()\n",
    "    print(content)  # prints: Hello, World!\n",
    "\n",
    "# File modes\n",
    "with open('file.txt', 'a') as f:\n",
    "    f.write('\\nGoodbye, World!')  # appends to the end of the file\n",
    "\n",
    "with open('file.txt', 'r') as f:\n",
    "    content = f.read()\n",
    "    print(content)  # prints: Hello, World!\\nGoodbye, World!\n",
    "\n",
    "# Handling file exceptions\n",
    "try:\n",
    "    with open('non_existent_file.txt', 'r') as f:\n",
    "        content = f.read()\n",
    "except FileNotFoundError:\n",
    "    print('File not found.')"
   ]
  },
  {
   "cell_type": "markdown",
   "metadata": {},
   "source": [
    "\n",
    "**Lesson 7: Exception Handling**\n",
    "\n"
   ]
  },
  {
   "cell_type": "code",
   "execution_count": 14,
   "metadata": {},
   "outputs": [
    {
     "name": "stdout",
     "output_type": "stream",
     "text": [
      "An error occurred: division by zero\n",
      "This will run no matter what.\n",
      "An error occurred: This is a custom exception\n"
     ]
    }
   ],
   "source": [
    "# Try, except, finally blocks\n",
    "try:\n",
    "  print(5 / 0)  # this will raise a ZeroDivisionError\n",
    "except ZeroDivisionError as e:\n",
    "  print(\"An error occurred:\", e)\n",
    "finally:\n",
    "  print(\"This will run no matter what.\")\n",
    "\n",
    "# Raising exceptions\n",
    "# x = -5\n",
    "# if x < 0:\n",
    "#   raise ValueError(\"x cannot be negative\")\n",
    "\n",
    "# Custom exceptions\n",
    "class MyException(Exception):\n",
    "  pass\n",
    "\n",
    "try:\n",
    "  raise MyException(\"This is a custom exception\")\n",
    "except MyException as e:\n",
    "  print(\"An error occurred:\", e)\n"
   ]
  },
  {
   "cell_type": "markdown",
   "metadata": {},
   "source": [
    "\n",
    "\n",
    "**Lesson 8: Object-Oriented Programming**\n",
    "\n"
   ]
  },
  {
   "cell_type": "code",
   "execution_count": 11,
   "metadata": {},
   "outputs": [
    {
     "name": "stdout",
     "output_type": "stream",
     "text": [
      "Fido\n",
      "Woof!\n",
      "Rex\n",
      "Loud Woof!\n",
      "Woof!\n",
      "Loud Woof!\n",
      "Whiskers\n",
      "3\n"
     ]
    }
   ],
   "source": [
    "# Classes and objects\n",
    "class Dog:\n",
    "    def __init__(self, name):\n",
    "        self.name = name\n",
    "\n",
    "    def bark(self):\n",
    "        return \"Woof!\"\n",
    "\n",
    "my_dog = Dog(\"Fido\")\n",
    "print(my_dog.name)  # prints: Fido\n",
    "print(my_dog.bark())  # prints: Woof!\n",
    "\n",
    "# Inheritance\n",
    "class GermanShepherd(Dog):\n",
    "    def bark(self):\n",
    "        return \"Loud Woof!\"\n",
    "\n",
    "my_dog = GermanShepherd(\"Rex\")\n",
    "print(my_dog.name)  # prints: Rex\n",
    "print(my_dog.bark())  # prints: Loud Woof!\n",
    "\n",
    "# Polymorphism\n",
    "def get_dog_bark(dog):\n",
    "    return dog.bark()\n",
    "\n",
    "print(get_dog_bark(Dog(\"Fido\")))  # prints: Woof!\n",
    "print(get_dog_bark(GermanShepherd(\"Rex\")))  # prints: Loud Woof!\n",
    "\n",
    "# Encapsulation\n",
    "class Cat:\n",
    "    def __init__(self, name, age):\n",
    "        self.__name = name\n",
    "        self.__age = age\n",
    "\n",
    "    def get_name(self):\n",
    "        return self.__name\n",
    "\n",
    "    def get_age(self):\n",
    "        return self.__age\n",
    "\n",
    "my_cat = Cat(\"Whiskers\", 3)\n",
    "print(my_cat.get_name())  # prints: Whiskers\n",
    "print(my_cat.get_age())  # prints: 3"
   ]
  },
  {
   "cell_type": "markdown",
   "metadata": {},
   "source": [
    "\n",
    "**Lesson 9: Modules and Packages**\n",
    "\n"
   ]
  },
  {
   "cell_type": "code",
   "execution_count": 12,
   "metadata": {},
   "outputs": [
    {
     "name": "stdout",
     "output_type": "stream",
     "text": [
      "4.0\n"
     ]
    }
   ],
   "source": [
    "# Importing modules\n",
    "import math\n",
    "print(math.sqrt(16))  # prints: 4.0\n",
    "\n",
    "# Creating your own modules\n",
    "# Assume we have a module named 'mymodule' with a function 'greet' and a class 'Person'\n",
    "# from mymodule import greet, Person\n",
    "# print(greet(\"World\"))  # prints: Hello, World\n",
    "# person = Person(\"John\", 30)\n",
    "# print(person.name)  # prints: John\n",
    "# print(person.age)  # prints: 30\n",
    "\n",
    "# Understanding packages\n",
    "# Assume we have a package named 'mypackage' with a module 'mymodule'\n",
    "# from mypackage import mymodule\n",
    "# print(mymodule.greet(\"World\"))  # prints: Hello, World\n",
    "# person = mymodule.Person(\"John\", 30)\n",
    "# print(person.name)  # prints: John\n",
    "# print(person.age)  # prints: 30"
   ]
  },
  {
   "cell_type": "markdown",
   "metadata": {},
   "source": [
    "\n",
    "\n",
    "**Lesson 10: Python Standard Library**\n",
    "\n"
   ]
  },
  {
   "cell_type": "code",
   "execution_count": 13,
   "metadata": {},
   "outputs": [
    {
     "name": "stdout",
     "output_type": "stream",
     "text": [
      "/home/rafael/dev/training/pythonWP\n",
      "['file.txt', 'copilot_python_lessons.ipynb']\n",
      "3.10.13 (main, Sep  5 2023, 06:03:44) [GCC 11.4.0]\n",
      "linux\n",
      "3.141592653589793\n",
      "8.0\n",
      "2024-02-27 14:06:16.601525\n",
      "2020-01-01 00:00:00\n",
      "{\"name\": \"John\", \"age\": 30}\n"
     ]
    }
   ],
   "source": [
    "# Overview of the Python Standard Library\n",
    "# The Python Standard Library is a collection of modules that provides functionalities for many common tasks.\n",
    "\n",
    "# Working with some important modules\n",
    "import os\n",
    "print(os.getcwd())  # prints the current working directory\n",
    "print(os.listdir())  # prints the files in the current directory\n",
    "\n",
    "import sys\n",
    "print(sys.version)  # prints the Python version\n",
    "print(sys.platform)  # prints the platform on which Python is running\n",
    "\n",
    "import math\n",
    "print(math.pi)  # prints the value of pi\n",
    "print(math.pow(2, 3))  # prints: 8.0\n",
    "\n",
    "import datetime\n",
    "print(datetime.datetime.now())  # prints the current date and time\n",
    "print(datetime.datetime(2020, 1, 1))  # prints: 2020-01-01 00:00:00\n",
    "\n",
    "import json\n",
    "data = {\"name\": \"John\", \"age\": 30}\n",
    "json_data = json.dumps(data)  # converts the dictionary to a JSON string\n",
    "print(json_data)  # prints: {\"name\": \"John\", \"age\": 30}"
   ]
  }
 ],
 "metadata": {
  "kernelspec": {
   "display_name": "Python 3",
   "language": "python",
   "name": "python3"
  },
  "language_info": {
   "codemirror_mode": {
    "name": "ipython",
    "version": 3
   },
   "file_extension": ".py",
   "mimetype": "text/x-python",
   "name": "python",
   "nbconvert_exporter": "python",
   "pygments_lexer": "ipython3",
   "version": "3.11.5"
  }
 },
 "nbformat": 4,
 "nbformat_minor": 2
}
