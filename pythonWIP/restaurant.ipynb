{
 "cells": [
  {
   "cell_type": "code",
   "execution_count": 3,
   "metadata": {},
   "outputs": [
    {
     "name": "stdout",
     "output_type": "stream",
     "text": [
      "\n",
      "******* Welcome to our Restaurant *********\n",
      "      Please Select  from the Menu\n",
      "\n",
      "\t\t1. Pizza costs 7\n",
      "\t\t2. Burger costs 5.5\n",
      "\t\t3. Pasta costs 6\n",
      "\t\t4. Sandwich costs 3.5\n",
      "\t\t5. French Fries costs 2.5\n",
      "\n",
      "\n",
      "Total Pizza:  1\n",
      "Total cost is:  7\n",
      "Total Pizza:  2\n",
      "Total cost is:  14\n"
     ]
    }
   ],
   "source": [
    "# total prices for each food item * qty\n",
    "# total cost of all items\n",
    "# total qty of each item\n",
    "\n",
    "\n",
    "\n",
    "foods = [\"Pizza\", \"Burger\", \"Pasta\", \"Sandwich\", \"French Fries\"]\n",
    "prices = [7, 5.5, 6, 3.5, 2.5]\n",
    "\n",
    "total_cost = 0\n",
    "total_Pizza = 0\n",
    "total_Burger = 0\n",
    "total_Pasta = 0\n",
    "total_Sandwich = 0\n",
    "total_French_Fries = 0\n",
    "\n",
    "print('\\n******* Welcome to our Restaurant *********')\n",
    "print('      Please Select  from the Menu\\n')\n",
    "\n",
    "for i in range(len(foods)):\n",
    "  print(\"\\t{}. {} costs {}\".format(i+1, foods[i], prices[i]))\n",
    "print ()\n",
    "\n",
    "choice =int(input(\"Please choose from the menu or type 0 to finish the order:\"))\n",
    "while choice != 0:\n",
    "  # choice = int(input (\"Enter your choice: \"))  \n",
    "  if choice not in range(1,6):\n",
    "    print(\"Invalid choice\")\n",
    "    # choice = int(input('Enter your choice: '))  \n",
    "  else:\n",
    "    total_cost += prices[choice-1]\n",
    "    if foods[choice-1] == \"Pizza\":\n",
    "      total_Pizza += 1\n",
    "    elif foods[choice-1] == \"Burger\":\n",
    "      total_Burger += 1\n",
    "    elif foods[choice-1] == \"Pasta\":\n",
    "      total_Pasta += 1\n",
    "    elif foods[choice-1] == \"Sandwich\":\n",
    "      total_Sandwich += 1\n",
    "    elif foods[choice-1] == \"French Fries\":\n",
    "      total_French_Fries += 1    \n",
    "  if total_Pizza > 0:\n",
    "      print(\"Total Pizza: \", total_Pizza)\n",
    "  if total_Burger > 0:\n",
    "      print(\"Total Burger: \", total_Burger)\n",
    "  if total_Pasta > 0:\n",
    "      print(\"Total Pasta: \", total_Pasta)\n",
    "  if total_Sandwich > 0:\n",
    "      print(\"Total Sandwich: \", total_Sandwich) \n",
    "  if total_French_Fries > 0:\n",
    "      print(\"Total French Fries: \", total_French_Fries)\n",
    "          \n",
    "  print(\"Total cost is: \", total_cost)\n",
    "  choice = int(input('Enter your choice: '))\n"
   ]
  }
 ],
 "metadata": {
  "kernelspec": {
   "display_name": "Python 3",
   "language": "python",
   "name": "python3"
  },
  "language_info": {
   "codemirror_mode": {
    "name": "ipython",
    "version": 3
   },
   "file_extension": ".py",
   "mimetype": "text/x-python",
   "name": "python",
   "nbconvert_exporter": "python",
   "pygments_lexer": "ipython3",
   "version": "3.10.13"
  }
 },
 "nbformat": 4,
 "nbformat_minor": 2
}
