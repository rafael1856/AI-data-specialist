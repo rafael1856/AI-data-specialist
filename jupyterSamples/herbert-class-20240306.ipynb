{
 "cells": [
  {
   "cell_type": "code",
   "execution_count": null,
   "metadata": {},
   "outputs": [],
   "source": []
  },
  {
   "cell_type": "code",
   "execution_count": 3,
   "metadata": {},
   "outputs": [],
   "source": [
    "school = {\n",
    "    \"ClassA\": {\n",
    "        \"Student1\": {\n",
    "            \"student_id\": 1,\n",
    "            \"name\": \"Alice\",\n",
    "            \"age\": 20,\n",
    "            \"salary\": 2000,\n",
    "            \"full_address\": \"123 Street, City, Country\",\n",
    "            \"subjects\": [\"Math\", \"Java\", \"Python\"]\n",
    "        },\n",
    "        \"Student2\": {\n",
    "            \"student_id\": 2,\n",
    "            \"name\": \"Bob\",\n",
    "            \"age\": 21,\n",
    "            \"salary\": 2100,\n",
    "            \"full_address\": \"456 Avenue, City, Country\",\n",
    "            \"subjects\": [\"Math\", \"Python\"]\n",
    "        }\n",
    "    },\n",
    "    \"ClassB\": {\n",
    "        \"Student3\": {\n",
    "            \"student_id\": 3,\n",
    "            \"name\": \"Charlie\",\n",
    "            \"age\": 22,\n",
    "            \"salary\": 2200,\n",
    "            \"full_address\": \"789 Boulevard, City, Country\",\n",
    "            \"subjects\": [\"Java\", \"Python\"]\n",
    "        },\n",
    "        \"Student4\": {\n",
    "            \"student_id\": 4,\n",
    "            \"name\": \"David\",\n",
    "            \"age\": 23,\n",
    "            \"salary\": 2300,\n",
    "            \"full_address\": \"101 Street, City, Country\",\n",
    "            \"subjects\": [\"Math\", \"Java\"]\n",
    "        }\n",
    "    }\n",
    "}\n"
   ]
  },
  {
   "cell_type": "code",
   "execution_count": 4,
   "metadata": {},
   "outputs": [],
   "source": [
    "# Define the new student\n",
    "new_student = {\n",
    "    \"student_id\": 5,\n",
    "    \"name\": \"Eve\",\n",
    "    \"age\": 24,\n",
    "    \"salary\": 2400,\n",
    "    \"full_address\": \"202 Street, City, Country\",\n",
    "    \"subjects\": [\"Math\", \"Java\", \"Python\"]\n",
    "}\n",
    "\n",
    "# Add the new student to ClassB\n",
    "school[\"ClassB\"][\"Student5\"] = new_student"
   ]
  },
  {
   "cell_type": "code",
   "execution_count": 5,
   "metadata": {},
   "outputs": [
    {
     "name": "stdout",
     "output_type": "stream",
     "text": [
      "Class: ClassA\n",
      "\tStudent Name: Student1\n",
      "\t\tstudent_id: 1\n",
      "\t\tname: Alice\n",
      "\t\tage: 20\n",
      "\t\tsalary: 2000\n",
      "\t\tfull_address: 123 Street, City, Country\n",
      "\t\tsubjects: ['Math', 'Java', 'Python']\n",
      "\tStudent Name: Student2\n",
      "\t\tstudent_id: 2\n",
      "\t\tname: Bob\n",
      "\t\tage: 21\n",
      "\t\tsalary: 2100\n",
      "\t\tfull_address: 456 Avenue, City, Country\n",
      "\t\tsubjects: ['Math', 'Python']\n",
      "\n",
      "\n",
      "Class: ClassB\n",
      "\tStudent Name: Student3\n",
      "\t\tstudent_id: 3\n",
      "\t\tname: Charlie\n",
      "\t\tage: 22\n",
      "\t\tsalary: 2200\n",
      "\t\tfull_address: 789 Boulevard, City, Country\n",
      "\t\tsubjects: ['Java', 'Python']\n",
      "\tStudent Name: Student4\n",
      "\t\tstudent_id: 4\n",
      "\t\tname: David\n",
      "\t\tage: 23\n",
      "\t\tsalary: 2300\n",
      "\t\tfull_address: 101 Street, City, Country\n",
      "\t\tsubjects: ['Math', 'Java']\n",
      "\tStudent Name: Student5\n",
      "\t\tstudent_id: 5\n",
      "\t\tname: Eve\n",
      "\t\tage: 24\n",
      "\t\tsalary: 2400\n",
      "\t\tfull_address: 202 Street, City, Country\n",
      "\t\tsubjects: ['Math', 'Java', 'Python']\n",
      "\n",
      "\n"
     ]
    }
   ],
   "source": [
    "for class_name, students in school.items():\n",
    "    print(f\"Class: {class_name}\")\n",
    "    for student_name, student_info in students.items():\n",
    "        print(f\"\\tStudent Name: {student_name}\")\n",
    "        for key, value in student_info.items():\n",
    "            print(f\"\\t\\t{key}: {value}\")\n",
    "    print(\"\\n\")  # print a newline for better readability"
   ]
  },
  {
   "cell_type": "code",
   "execution_count": 19,
   "metadata": {},
   "outputs": [
    {
     "data": {
      "text/plain": [
       "17.0"
      ]
     },
     "execution_count": 19,
     "metadata": {},
     "output_type": "execute_result"
    }
   ],
   "source": [
    "2 + 3 * 5.\n"
   ]
  }
 ],
 "metadata": {
  "kernelspec": {
   "display_name": "base",
   "language": "python",
   "name": "python3"
  },
  "language_info": {
   "codemirror_mode": {
    "name": "ipython",
    "version": 3
   },
   "file_extension": ".py",
   "mimetype": "text/x-python",
   "name": "python",
   "nbconvert_exporter": "python",
   "pygments_lexer": "ipython3",
   "version": "3.11.5"
  }
 },
 "nbformat": 4,
 "nbformat_minor": 2
}
