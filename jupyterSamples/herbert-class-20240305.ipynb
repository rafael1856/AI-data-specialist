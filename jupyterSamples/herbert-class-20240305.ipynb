{
 "cells": [
  {
   "cell_type": "code",
   "execution_count": 7,
   "metadata": {},
   "outputs": [
    {
     "name": "stdout",
     "output_type": "stream",
     "text": [
      "[[0, 1, 2, 3], [0, 1, 2, 3]]\n",
      "[0, 1, 2, 3]\n"
     ]
    }
   ],
   "source": [
    "l = [ [ i for i in range(4) ] for j in range(2) ]\n",
    "print(l)\n",
    "\n",
    "print(l[0])"
   ]
  },
  {
   "cell_type": "code",
   "execution_count": 8,
   "metadata": {},
   "outputs": [
    {
     "name": "stdout",
     "output_type": "stream",
     "text": [
      "<class 'tuple'>\n"
     ]
    }
   ],
   "source": [
    "t1 = ('tom',)\n",
    "print(type(t1))"
   ]
  },
  {
   "cell_type": "markdown",
   "metadata": {},
   "source": [
    "Tuples have several advantages over lists in Python:\n",
    "\n",
    "1. **Immutability**: Tuples are immutable, meaning they cannot be changed after they are created. This is useful when you want to ensure that certain data remains constant throughout the execution of your program.\n",
    "\n",
    "2. **Hashable**: Because they are immutable, tuples can be used as keys in dictionaries, while lists cannot.\n",
    "\n",
    "3. **Performance**: Tuples are slightly more efficient than lists in terms of memory and performance because they are stored in a single block of memory, making it faster to create and process tuples than lists.\n",
    "\n",
    "4. **Safe**: Since tuples are immutable, iterating through a tuple is safer than iterating through a list which could be changed during iteration.\n",
    "\n",
    "5. **Semantic**: Tuples, being immutable, can be seen as representing something that should not change, such as a date or a time, while lists are used for things that are meant to be changed, like a list of tasks or items.\n",
    "\n",
    "In your code snippet, `t1` is a tuple with a single element 'tom'. The trailing comma is necessary for Python to distinguish it from a parenthesized expression."
   ]
  },
  {
   "cell_type": "code",
   "execution_count": null,
   "metadata": {},
   "outputs": [],
   "source": [
    "car = {\n",
    "    \"year\": 2020,\n",
    "    \"brand\": \"Tesla\",\n",
    "    \"model\": \"Model 3\",\n",
    "    \"color\": \"Red\"\n",
    "}"
   ]
  },
  {
   "cell_type": "code",
   "execution_count": 13,
   "metadata": {},
   "outputs": [
    {
     "name": "stdout",
     "output_type": "stream",
     "text": [
      "Tesla\n",
      "dict_keys(['year', 'brand', 'model', 'color'])\n",
      "dict_keys(['year', 'brand', 'model', 'color', 'motor'])\n"
     ]
    }
   ],
   "source": [
    "cars = [\n",
    "    {\"year\": 2020, \"brand\": \"Tesla\", \"model\": \"Model 3\", \"color\": \"Red\"},\n",
    "    {\"year\": 2019, \"brand\": \"Ford\", \"model\": \"Mustang\", \"color\": \"Blue\"},\n",
    "    {\"year\": 2021, \"brand\": \"BMW\", \"model\": \"X5\", \"color\": \"Black\"}\n",
    "]\n",
    "\n",
    "print(cars[0][\"brand\"])\n",
    "print(cars[1].keys())\n",
    "\n",
    "cars[1][\"motor\"] = \"Electric\"\n",
    "\n",
    "print(cars[1].keys())"
   ]
  },
  {
   "cell_type": "markdown",
   "metadata": {},
   "source": []
  },
  {
   "cell_type": "markdown",
   "metadata": {},
   "source": [
    "Python dictionaries have several built-in methods. Here are some of the most commonly used ones:\n",
    "\n",
    "1. **`clear()`**: Removes all items from the dictionary.\n",
    "\n",
    "2. **`copy()`**: Returns a shallow copy of the dictionary.\n",
    "\n",
    "3. **`fromkeys(seq[, v])`**: Returns a new dictionary with keys from seq and value equal to v (defaults to None).\n",
    "\n",
    "4. **`get(key[,d])`**: Returns the value of the key. If the key does not exist, returns d (defaults to None).\n",
    "\n",
    "5. **`items()`**: Return a new object of the dictionary's items in (key, value) format.\n",
    "\n",
    "6. **`keys()`**: Returns a new object of the dictionary's keys.\n",
    "\n",
    "7. **`pop(key[,d])`**: Removes the item with the key and returns its value or d if key is not found. If d is not provided and key is not found, it raises a KeyError.\n",
    "\n",
    "8. **`popitem()`**: Removes and returns an arbitrary item (key, value). Raises KeyError if the dictionary is empty.\n",
    "\n",
    "9. **`setdefault(key[,d])`**: Returns the corresponding value if the key is in the dictionary. If not, inserts key with a value of d and returns d (defaults to None).\n",
    "\n",
    "10. **`update([other])`**: Updates the dictionary with the key/value pairs from other, overwriting existing keys.\n",
    "\n",
    "11. **`values()`**: Returns a new object of the dictionary's values\n",
    "\n",
    "Here's an example of how some of these methods can be used:\n",
    "\n"
   ]
  },
  {
   "cell_type": "code",
   "execution_count": null,
   "metadata": {},
   "outputs": [],
   "source": [
    "car = {\"brand\": \"Tesla\", \"model\": \"Model 3\", \"year\": 2020}\n",
    "\n",
    "# Get the value of the \"model\" key\n",
    "model = car.get(\"model\")\n",
    "\n",
    "# Get the keys of the dictionary\n",
    "keys = car.keys()\n",
    "\n",
    "# Update the year of the car\n",
    "car.update({\"year\": 2021})\n",
    "\n",
    "# Get the values of the dictionary\n",
    "values = car.values()"
   ]
  }
 ],
 "metadata": {
  "kernelspec": {
   "display_name": "base",
   "language": "python",
   "name": "python3"
  },
  "language_info": {
   "codemirror_mode": {
    "name": "ipython",
    "version": 3
   },
   "file_extension": ".py",
   "mimetype": "text/x-python",
   "name": "python",
   "nbconvert_exporter": "python",
   "pygments_lexer": "ipython3",
   "version": "3.11.5"
  }
 },
 "nbformat": 4,
 "nbformat_minor": 2
}
